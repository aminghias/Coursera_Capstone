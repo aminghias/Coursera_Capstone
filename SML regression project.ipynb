{
 "cells": [
  {
   "cell_type": "markdown",
   "metadata": {},
   "source": [
    "## Supervised Machine Learning: Regression\n",
    "### Course Project"
   ]
  },
  {
   "cell_type": "code",
   "execution_count": 1,
   "metadata": {},
   "outputs": [],
   "source": [
    "import numpy as np\n",
    "import pandas as pd\n",
    "import matplotlib.pyplot as plt\n",
    "from scipy.stats import boxcox\n",
    "\n",
    "from sklearn.linear_model import LinearRegression\n",
    "from sklearn.metrics import r2_score\n",
    "from sklearn.model_selection import train_test_split\n",
    "from sklearn.preprocessing import (StandardScaler, \n",
    "                                   PolynomialFeatures)\n",
    "\n",
    "from scipy.special import inv_boxcox\n",
    "\n",
    "from sklearn.model_selection import train_test_split\n",
    "\n",
    "\n",
    "import numpy as np\n",
    "import pickle\n",
    "import pandas as pd\n",
    "import matplotlib.pyplot as plt\n",
    "\n",
    "from sklearn.linear_model import LinearRegression\n",
    "from sklearn.metrics import mean_squared_error\n",
    "from sklearn.preprocessing import StandardScaler, MinMaxScaler, MaxAbsScaler\n",
    "\n",
    "from sklearn.preprocessing import StandardScaler, PolynomialFeatures\n",
    "from sklearn.model_selection import KFold, cross_val_predict\n",
    "from sklearn.linear_model import LinearRegression, Lasso, Ridge\n",
    "from sklearn.metrics import r2_score\n",
    "from sklearn.pipeline import Pipeline"
   ]
  },
  {
   "cell_type": "code",
   "execution_count": 2,
   "metadata": {},
   "outputs": [
    {
     "name": "stdout",
     "output_type": "stream",
     "text": [
      "(3221, 7)\n"
     ]
    }
   ],
   "source": [
    "# Getting the dataset\n",
    "\n",
    "data = pd.read_csv('Stock_Exchange_KSE_100(Pakistan).csv')\n",
    "\n",
    "print(data.shape)\n"
   ]
  },
  {
   "cell_type": "code",
   "execution_count": 3,
   "metadata": {},
   "outputs": [
    {
     "data": {
      "text/html": [
       "<div>\n",
       "<style scoped>\n",
       "    .dataframe tbody tr th:only-of-type {\n",
       "        vertical-align: middle;\n",
       "    }\n",
       "\n",
       "    .dataframe tbody tr th {\n",
       "        vertical-align: top;\n",
       "    }\n",
       "\n",
       "    .dataframe thead th {\n",
       "        text-align: right;\n",
       "    }\n",
       "</style>\n",
       "<table border=\"1\" class=\"dataframe\">\n",
       "  <thead>\n",
       "    <tr style=\"text-align: right;\">\n",
       "      <th></th>\n",
       "      <th>Date</th>\n",
       "      <th>Open</th>\n",
       "      <th>High</th>\n",
       "      <th>Low</th>\n",
       "      <th>Close</th>\n",
       "      <th>Change</th>\n",
       "      <th>Volume</th>\n",
       "    </tr>\n",
       "  </thead>\n",
       "  <tbody>\n",
       "    <tr>\n",
       "      <th>0</th>\n",
       "      <td>23-Feb-21</td>\n",
       "      <td>31,722.16</td>\n",
       "      <td>31,800.90</td>\n",
       "      <td>31,597.31</td>\n",
       "      <td>31,626.19</td>\n",
       "      <td>-21.38</td>\n",
       "      <td>718,191,025</td>\n",
       "    </tr>\n",
       "    <tr>\n",
       "      <th>1</th>\n",
       "      <td>22-Feb-21</td>\n",
       "      <td>31,874.78</td>\n",
       "      <td>31,958.58</td>\n",
       "      <td>31,612.55</td>\n",
       "      <td>31,647.57</td>\n",
       "      <td>-203.61</td>\n",
       "      <td>721,952,658</td>\n",
       "    </tr>\n",
       "    <tr>\n",
       "      <th>2</th>\n",
       "      <td>19-Feb-21</td>\n",
       "      <td>31,748.75</td>\n",
       "      <td>31,904.30</td>\n",
       "      <td>31,749.43</td>\n",
       "      <td>31,851.18</td>\n",
       "      <td>91.36</td>\n",
       "      <td>694,795,084</td>\n",
       "    </tr>\n",
       "    <tr>\n",
       "      <th>3</th>\n",
       "      <td>18-Feb-21</td>\n",
       "      <td>32,049.85</td>\n",
       "      <td>32,104.67</td>\n",
       "      <td>31,745.72</td>\n",
       "      <td>31,759.82</td>\n",
       "      <td>-288.86</td>\n",
       "      <td>577,837,595</td>\n",
       "    </tr>\n",
       "    <tr>\n",
       "      <th>4</th>\n",
       "      <td>17-Feb-21</td>\n",
       "      <td>32,166.21</td>\n",
       "      <td>32,390.77</td>\n",
       "      <td>32,044.01</td>\n",
       "      <td>32,048.68</td>\n",
       "      <td>-93.15</td>\n",
       "      <td>701,658,181</td>\n",
       "    </tr>\n",
       "    <tr>\n",
       "      <th>5</th>\n",
       "      <td>16-Feb-21</td>\n",
       "      <td>31,898.51</td>\n",
       "      <td>32,155.42</td>\n",
       "      <td>31,891.80</td>\n",
       "      <td>32,141.83</td>\n",
       "      <td>250.03</td>\n",
       "      <td>514,044,525</td>\n",
       "    </tr>\n",
       "    <tr>\n",
       "      <th>6</th>\n",
       "      <td>15-Feb-21</td>\n",
       "      <td>31,695.01</td>\n",
       "      <td>31,959.00</td>\n",
       "      <td>31,552.69</td>\n",
       "      <td>31,891.80</td>\n",
       "      <td>339.11</td>\n",
       "      <td>486,340,423</td>\n",
       "    </tr>\n",
       "    <tr>\n",
       "      <th>7</th>\n",
       "      <td>12-Feb-21</td>\n",
       "      <td>31,703.25</td>\n",
       "      <td>31,819.14</td>\n",
       "      <td>31,517.21</td>\n",
       "      <td>31,552.69</td>\n",
       "      <td>-151.98</td>\n",
       "      <td>442,547,019</td>\n",
       "    </tr>\n",
       "    <tr>\n",
       "      <th>8</th>\n",
       "      <td>11-Feb-21</td>\n",
       "      <td>32,121.31</td>\n",
       "      <td>32,255.15</td>\n",
       "      <td>31,653.40</td>\n",
       "      <td>31,704.67</td>\n",
       "      <td>-410.7</td>\n",
       "      <td>1,124,724,205</td>\n",
       "    </tr>\n",
       "    <tr>\n",
       "      <th>9</th>\n",
       "      <td>10-Feb-21</td>\n",
       "      <td>32,186.99</td>\n",
       "      <td>32,234.98</td>\n",
       "      <td>31,949.20</td>\n",
       "      <td>32,115.37</td>\n",
       "      <td>-51.32</td>\n",
       "      <td>1,011,825,950</td>\n",
       "    </tr>\n",
       "    <tr>\n",
       "      <th>10</th>\n",
       "      <td>9-Feb-21</td>\n",
       "      <td>32,275.59</td>\n",
       "      <td>32,365.63</td>\n",
       "      <td>32,149.63</td>\n",
       "      <td>32,166.69</td>\n",
       "      <td>-80.25</td>\n",
       "      <td>663,958,819</td>\n",
       "    </tr>\n",
       "    <tr>\n",
       "      <th>11</th>\n",
       "      <td>8-Feb-21</td>\n",
       "      <td>32,393.94</td>\n",
       "      <td>32,478.42</td>\n",
       "      <td>32,185.62</td>\n",
       "      <td>32,246.94</td>\n",
       "      <td>-139.15</td>\n",
       "      <td>428,332,082</td>\n",
       "    </tr>\n",
       "    <tr>\n",
       "      <th>12</th>\n",
       "      <td>4-Feb-21</td>\n",
       "      <td>32,358.58</td>\n",
       "      <td>32,602.03</td>\n",
       "      <td>32,302.37</td>\n",
       "      <td>32,386.09</td>\n",
       "      <td>27.13</td>\n",
       "      <td>440,244,554</td>\n",
       "    </tr>\n",
       "    <tr>\n",
       "      <th>13</th>\n",
       "      <td>3-Feb-21</td>\n",
       "      <td>32,187.71</td>\n",
       "      <td>32,451.23</td>\n",
       "      <td>32,167.97</td>\n",
       "      <td>32,358.96</td>\n",
       "      <td>190.99</td>\n",
       "      <td>616,200,447</td>\n",
       "    </tr>\n",
       "    <tr>\n",
       "      <th>14</th>\n",
       "      <td>2-Feb-21</td>\n",
       "      <td>32,086.81</td>\n",
       "      <td>32,183.85</td>\n",
       "      <td>31,985.60</td>\n",
       "      <td>32,167.97</td>\n",
       "      <td>166.89</td>\n",
       "      <td>467,989,986</td>\n",
       "    </tr>\n",
       "    <tr>\n",
       "      <th>15</th>\n",
       "      <td>1-Feb-21</td>\n",
       "      <td>32,075.13</td>\n",
       "      <td>32,297.93</td>\n",
       "      <td>31,972.24</td>\n",
       "      <td>32,001.08</td>\n",
       "      <td>-60.46</td>\n",
       "      <td>692,898,215</td>\n",
       "    </tr>\n",
       "    <tr>\n",
       "      <th>16</th>\n",
       "      <td>29-Jan-21</td>\n",
       "      <td>31,923.73</td>\n",
       "      <td>32,260.89</td>\n",
       "      <td>31,914.12</td>\n",
       "      <td>32,061.53</td>\n",
       "      <td>147.41</td>\n",
       "      <td>839,457,168</td>\n",
       "    </tr>\n",
       "    <tr>\n",
       "      <th>17</th>\n",
       "      <td>28-Jan-21</td>\n",
       "      <td>32,072.33</td>\n",
       "      <td>32,174.57</td>\n",
       "      <td>31,887.70</td>\n",
       "      <td>31,914.12</td>\n",
       "      <td>-158.77</td>\n",
       "      <td>843,983,643</td>\n",
       "    </tr>\n",
       "    <tr>\n",
       "      <th>18</th>\n",
       "      <td>27-Jan-21</td>\n",
       "      <td>32,063.38</td>\n",
       "      <td>32,237.96</td>\n",
       "      <td>32,009.03</td>\n",
       "      <td>32,072.89</td>\n",
       "      <td>47.42</td>\n",
       "      <td>610,915,766</td>\n",
       "    </tr>\n",
       "    <tr>\n",
       "      <th>19</th>\n",
       "      <td>26-Jan-21</td>\n",
       "      <td>31,996.67</td>\n",
       "      <td>32,091.66</td>\n",
       "      <td>31,933.31</td>\n",
       "      <td>32,025.47</td>\n",
       "      <td>75.01</td>\n",
       "      <td>603,234,345</td>\n",
       "    </tr>\n",
       "  </tbody>\n",
       "</table>\n",
       "</div>"
      ],
      "text/plain": [
       "         Date       Open       High        Low      Close   Change  \\\n",
       "0   23-Feb-21  31,722.16  31,800.90  31,597.31  31,626.19   -21.38   \n",
       "1   22-Feb-21  31,874.78  31,958.58  31,612.55  31,647.57  -203.61   \n",
       "2   19-Feb-21  31,748.75  31,904.30  31,749.43  31,851.18    91.36   \n",
       "3   18-Feb-21  32,049.85  32,104.67  31,745.72  31,759.82  -288.86   \n",
       "4   17-Feb-21  32,166.21  32,390.77  32,044.01  32,048.68   -93.15   \n",
       "5   16-Feb-21  31,898.51  32,155.42  31,891.80  32,141.83   250.03   \n",
       "6   15-Feb-21  31,695.01  31,959.00  31,552.69  31,891.80   339.11   \n",
       "7   12-Feb-21  31,703.25  31,819.14  31,517.21  31,552.69  -151.98   \n",
       "8   11-Feb-21  32,121.31  32,255.15  31,653.40  31,704.67   -410.7   \n",
       "9   10-Feb-21  32,186.99  32,234.98  31,949.20  32,115.37   -51.32   \n",
       "10   9-Feb-21  32,275.59  32,365.63  32,149.63  32,166.69   -80.25   \n",
       "11   8-Feb-21  32,393.94  32,478.42  32,185.62  32,246.94  -139.15   \n",
       "12   4-Feb-21  32,358.58  32,602.03  32,302.37  32,386.09    27.13   \n",
       "13   3-Feb-21  32,187.71  32,451.23  32,167.97  32,358.96   190.99   \n",
       "14   2-Feb-21  32,086.81  32,183.85  31,985.60  32,167.97   166.89   \n",
       "15   1-Feb-21  32,075.13  32,297.93  31,972.24  32,001.08   -60.46   \n",
       "16  29-Jan-21  31,923.73  32,260.89  31,914.12  32,061.53   147.41   \n",
       "17  28-Jan-21  32,072.33  32,174.57  31,887.70  31,914.12  -158.77   \n",
       "18  27-Jan-21  32,063.38  32,237.96  32,009.03  32,072.89    47.42   \n",
       "19  26-Jan-21  31,996.67  32,091.66  31,933.31  32,025.47    75.01   \n",
       "\n",
       "           Volume  \n",
       "0     718,191,025  \n",
       "1     721,952,658  \n",
       "2     694,795,084  \n",
       "3     577,837,595  \n",
       "4     701,658,181  \n",
       "5     514,044,525  \n",
       "6     486,340,423  \n",
       "7     442,547,019  \n",
       "8   1,124,724,205  \n",
       "9   1,011,825,950  \n",
       "10    663,958,819  \n",
       "11    428,332,082  \n",
       "12    440,244,554  \n",
       "13    616,200,447  \n",
       "14    467,989,986  \n",
       "15    692,898,215  \n",
       "16    839,457,168  \n",
       "17    843,983,643  \n",
       "18    610,915,766  \n",
       "19    603,234,345  "
      ]
     },
     "execution_count": 3,
     "metadata": {},
     "output_type": "execute_result"
    }
   ],
   "source": [
    "data.head(20)"
   ]
  },
  {
   "cell_type": "code",
   "execution_count": 4,
   "metadata": {},
   "outputs": [],
   "source": [
    "df=data"
   ]
  },
  {
   "cell_type": "code",
   "execution_count": 5,
   "metadata": {},
   "outputs": [
    {
     "data": {
      "text/html": [
       "<div>\n",
       "<style scoped>\n",
       "    .dataframe tbody tr th:only-of-type {\n",
       "        vertical-align: middle;\n",
       "    }\n",
       "\n",
       "    .dataframe tbody tr th {\n",
       "        vertical-align: top;\n",
       "    }\n",
       "\n",
       "    .dataframe thead th {\n",
       "        text-align: right;\n",
       "    }\n",
       "</style>\n",
       "<table border=\"1\" class=\"dataframe\">\n",
       "  <thead>\n",
       "    <tr style=\"text-align: right;\">\n",
       "      <th></th>\n",
       "      <th>Date</th>\n",
       "      <th>Open</th>\n",
       "      <th>High</th>\n",
       "      <th>Low</th>\n",
       "      <th>Close</th>\n",
       "      <th>Change</th>\n",
       "      <th>Volume</th>\n",
       "    </tr>\n",
       "  </thead>\n",
       "  <tbody>\n",
       "    <tr>\n",
       "      <th>0</th>\n",
       "      <td>23-Feb-21</td>\n",
       "      <td>31,722.16</td>\n",
       "      <td>31,800.90</td>\n",
       "      <td>31,597.31</td>\n",
       "      <td>31,626.19</td>\n",
       "      <td>-21.38</td>\n",
       "      <td>718,191,025</td>\n",
       "    </tr>\n",
       "    <tr>\n",
       "      <th>1</th>\n",
       "      <td>22-Feb-21</td>\n",
       "      <td>31,874.78</td>\n",
       "      <td>31,958.58</td>\n",
       "      <td>31,612.55</td>\n",
       "      <td>31,647.57</td>\n",
       "      <td>-203.61</td>\n",
       "      <td>721,952,658</td>\n",
       "    </tr>\n",
       "    <tr>\n",
       "      <th>2</th>\n",
       "      <td>19-Feb-21</td>\n",
       "      <td>31,748.75</td>\n",
       "      <td>31,904.30</td>\n",
       "      <td>31,749.43</td>\n",
       "      <td>31,851.18</td>\n",
       "      <td>91.36</td>\n",
       "      <td>694,795,084</td>\n",
       "    </tr>\n",
       "    <tr>\n",
       "      <th>3</th>\n",
       "      <td>18-Feb-21</td>\n",
       "      <td>32,049.85</td>\n",
       "      <td>32,104.67</td>\n",
       "      <td>31,745.72</td>\n",
       "      <td>31,759.82</td>\n",
       "      <td>-288.86</td>\n",
       "      <td>577,837,595</td>\n",
       "    </tr>\n",
       "    <tr>\n",
       "      <th>4</th>\n",
       "      <td>17-Feb-21</td>\n",
       "      <td>32,166.21</td>\n",
       "      <td>32,390.77</td>\n",
       "      <td>32,044.01</td>\n",
       "      <td>32,048.68</td>\n",
       "      <td>-93.15</td>\n",
       "      <td>701,658,181</td>\n",
       "    </tr>\n",
       "  </tbody>\n",
       "</table>\n",
       "</div>"
      ],
      "text/plain": [
       "        Date       Open       High        Low      Close   Change       Volume\n",
       "0  23-Feb-21  31,722.16  31,800.90  31,597.31  31,626.19   -21.38  718,191,025\n",
       "1  22-Feb-21  31,874.78  31,958.58  31,612.55  31,647.57  -203.61  721,952,658\n",
       "2  19-Feb-21  31,748.75  31,904.30  31,749.43  31,851.18    91.36  694,795,084\n",
       "3  18-Feb-21  32,049.85  32,104.67  31,745.72  31,759.82  -288.86  577,837,595\n",
       "4  17-Feb-21  32,166.21  32,390.77  32,044.01  32,048.68   -93.15  701,658,181"
      ]
     },
     "execution_count": 5,
     "metadata": {},
     "output_type": "execute_result"
    }
   ],
   "source": [
    "df.head()"
   ]
  },
  {
   "cell_type": "code",
   "execution_count": 6,
   "metadata": {},
   "outputs": [],
   "source": [
    "# Removing the symbols in the Data\n",
    "\n",
    "df.replace(',','', regex=True, inplace=True)"
   ]
  },
  {
   "cell_type": "code",
   "execution_count": 7,
   "metadata": {},
   "outputs": [
    {
     "data": {
      "text/html": [
       "<div>\n",
       "<style scoped>\n",
       "    .dataframe tbody tr th:only-of-type {\n",
       "        vertical-align: middle;\n",
       "    }\n",
       "\n",
       "    .dataframe tbody tr th {\n",
       "        vertical-align: top;\n",
       "    }\n",
       "\n",
       "    .dataframe thead th {\n",
       "        text-align: right;\n",
       "    }\n",
       "</style>\n",
       "<table border=\"1\" class=\"dataframe\">\n",
       "  <thead>\n",
       "    <tr style=\"text-align: right;\">\n",
       "      <th></th>\n",
       "      <th>Date</th>\n",
       "      <th>Open</th>\n",
       "      <th>High</th>\n",
       "      <th>Low</th>\n",
       "      <th>Close</th>\n",
       "      <th>Change</th>\n",
       "      <th>Volume</th>\n",
       "    </tr>\n",
       "  </thead>\n",
       "  <tbody>\n",
       "    <tr>\n",
       "      <th>0</th>\n",
       "      <td>23-Feb-21</td>\n",
       "      <td>31722.16</td>\n",
       "      <td>31800.90</td>\n",
       "      <td>31597.31</td>\n",
       "      <td>31626.19</td>\n",
       "      <td>-21.38</td>\n",
       "      <td>718191025</td>\n",
       "    </tr>\n",
       "    <tr>\n",
       "      <th>1</th>\n",
       "      <td>22-Feb-21</td>\n",
       "      <td>31874.78</td>\n",
       "      <td>31958.58</td>\n",
       "      <td>31612.55</td>\n",
       "      <td>31647.57</td>\n",
       "      <td>-203.61</td>\n",
       "      <td>721952658</td>\n",
       "    </tr>\n",
       "    <tr>\n",
       "      <th>2</th>\n",
       "      <td>19-Feb-21</td>\n",
       "      <td>31748.75</td>\n",
       "      <td>31904.30</td>\n",
       "      <td>31749.43</td>\n",
       "      <td>31851.18</td>\n",
       "      <td>91.36</td>\n",
       "      <td>694795084</td>\n",
       "    </tr>\n",
       "    <tr>\n",
       "      <th>3</th>\n",
       "      <td>18-Feb-21</td>\n",
       "      <td>32049.85</td>\n",
       "      <td>32104.67</td>\n",
       "      <td>31745.72</td>\n",
       "      <td>31759.82</td>\n",
       "      <td>-288.86</td>\n",
       "      <td>577837595</td>\n",
       "    </tr>\n",
       "    <tr>\n",
       "      <th>4</th>\n",
       "      <td>17-Feb-21</td>\n",
       "      <td>32166.21</td>\n",
       "      <td>32390.77</td>\n",
       "      <td>32044.01</td>\n",
       "      <td>32048.68</td>\n",
       "      <td>-93.15</td>\n",
       "      <td>701658181</td>\n",
       "    </tr>\n",
       "  </tbody>\n",
       "</table>\n",
       "</div>"
      ],
      "text/plain": [
       "        Date      Open      High       Low     Close   Change     Volume\n",
       "0  23-Feb-21  31722.16  31800.90  31597.31  31626.19   -21.38  718191025\n",
       "1  22-Feb-21  31874.78  31958.58  31612.55  31647.57  -203.61  721952658\n",
       "2  19-Feb-21  31748.75  31904.30  31749.43  31851.18    91.36  694795084\n",
       "3  18-Feb-21  32049.85  32104.67  31745.72  31759.82  -288.86  577837595\n",
       "4  17-Feb-21  32166.21  32390.77  32044.01  32048.68   -93.15  701658181"
      ]
     },
     "execution_count": 7,
     "metadata": {},
     "output_type": "execute_result"
    }
   ],
   "source": [
    "df.head()"
   ]
  },
  {
   "cell_type": "code",
   "execution_count": 8,
   "metadata": {},
   "outputs": [
    {
     "data": {
      "text/plain": [
       "Date      3221\n",
       "Open      3221\n",
       "High      3221\n",
       "Low       3221\n",
       "Close     3221\n",
       "Change    3221\n",
       "Volume    3221\n",
       "dtype: int64"
      ]
     },
     "execution_count": 8,
     "metadata": {},
     "output_type": "execute_result"
    }
   ],
   "source": [
    "data.count()"
   ]
  },
  {
   "cell_type": "code",
   "execution_count": 9,
   "metadata": {},
   "outputs": [
    {
     "data": {
      "text/html": [
       "<div>\n",
       "<style scoped>\n",
       "    .dataframe tbody tr th:only-of-type {\n",
       "        vertical-align: middle;\n",
       "    }\n",
       "\n",
       "    .dataframe tbody tr th {\n",
       "        vertical-align: top;\n",
       "    }\n",
       "\n",
       "    .dataframe thead th {\n",
       "        text-align: right;\n",
       "    }\n",
       "</style>\n",
       "<table border=\"1\" class=\"dataframe\">\n",
       "  <thead>\n",
       "    <tr style=\"text-align: right;\">\n",
       "      <th></th>\n",
       "      <th>Date</th>\n",
       "      <th>Open</th>\n",
       "      <th>High</th>\n",
       "      <th>Low</th>\n",
       "      <th>Close</th>\n",
       "      <th>Change</th>\n",
       "      <th>Volume</th>\n",
       "    </tr>\n",
       "  </thead>\n",
       "  <tbody>\n",
       "    <tr>\n",
       "      <th>count</th>\n",
       "      <td>3221</td>\n",
       "      <td>3221</td>\n",
       "      <td>3221</td>\n",
       "      <td>3221</td>\n",
       "      <td>3221</td>\n",
       "      <td>3221</td>\n",
       "      <td>3221</td>\n",
       "    </tr>\n",
       "    <tr>\n",
       "      <th>unique</th>\n",
       "      <td>3221</td>\n",
       "      <td>3213</td>\n",
       "      <td>3215</td>\n",
       "      <td>3211</td>\n",
       "      <td>3209</td>\n",
       "      <td>3104</td>\n",
       "      <td>3220</td>\n",
       "    </tr>\n",
       "    <tr>\n",
       "      <th>top</th>\n",
       "      <td>14-May-09</td>\n",
       "      <td>29929.00</td>\n",
       "      <td>7935.15</td>\n",
       "      <td>6639.00</td>\n",
       "      <td>6639.25</td>\n",
       "      <td>0</td>\n",
       "      <td>302831072</td>\n",
       "    </tr>\n",
       "    <tr>\n",
       "      <th>freq</th>\n",
       "      <td>1</td>\n",
       "      <td>2</td>\n",
       "      <td>2</td>\n",
       "      <td>3</td>\n",
       "      <td>3</td>\n",
       "      <td>5</td>\n",
       "      <td>2</td>\n",
       "    </tr>\n",
       "  </tbody>\n",
       "</table>\n",
       "</div>"
      ],
      "text/plain": [
       "             Date      Open     High      Low    Close Change     Volume\n",
       "count        3221      3221     3221     3221     3221   3221       3221\n",
       "unique       3221      3213     3215     3211     3209   3104       3220\n",
       "top     14-May-09  29929.00  7935.15  6639.00  6639.25      0  302831072\n",
       "freq            1         2        2        3        3      5          2"
      ]
     },
     "execution_count": 9,
     "metadata": {},
     "output_type": "execute_result"
    }
   ],
   "source": [
    "data.describe()"
   ]
  },
  {
   "cell_type": "code",
   "execution_count": 10,
   "metadata": {},
   "outputs": [
    {
     "data": {
      "text/plain": [
       "Date      object\n",
       "Open      object\n",
       "High      object\n",
       "Low       object\n",
       "Close     object\n",
       "Change    object\n",
       "Volume    object\n",
       "dtype: object"
      ]
     },
     "execution_count": 10,
     "metadata": {},
     "output_type": "execute_result"
    }
   ],
   "source": [
    "data.dtypes"
   ]
  },
  {
   "cell_type": "code",
   "execution_count": 11,
   "metadata": {},
   "outputs": [
    {
     "data": {
      "text/plain": [
       "(3221, 7)"
      ]
     },
     "execution_count": 11,
     "metadata": {},
     "output_type": "execute_result"
    }
   ],
   "source": [
    "data.shape"
   ]
  },
  {
   "cell_type": "code",
   "execution_count": null,
   "metadata": {},
   "outputs": [],
   "source": []
  },
  {
   "cell_type": "code",
   "execution_count": 12,
   "metadata": {},
   "outputs": [],
   "source": [
    "#  Formimng the X and Y dataframes\n",
    "\n",
    "feature_cols = [x for x in df.columns if x != 'Volume']\n",
    "X = df[feature_cols]\n",
    "y = df['Volume']\n",
    "\n",
    "\n",
    "\n",
    "# Dropping the date coulum from dataframe \n",
    "X=X.drop('Date', axis=1)"
   ]
  },
  {
   "cell_type": "code",
   "execution_count": 13,
   "metadata": {},
   "outputs": [],
   "source": [
    "#  Converting Datatype into float\n",
    "\n",
    "X = X.astype(float)\n",
    "y = y.astype(float)"
   ]
  },
  {
   "cell_type": "code",
   "execution_count": 14,
   "metadata": {},
   "outputs": [
    {
     "data": {
      "text/html": [
       "<div>\n",
       "<style scoped>\n",
       "    .dataframe tbody tr th:only-of-type {\n",
       "        vertical-align: middle;\n",
       "    }\n",
       "\n",
       "    .dataframe tbody tr th {\n",
       "        vertical-align: top;\n",
       "    }\n",
       "\n",
       "    .dataframe thead th {\n",
       "        text-align: right;\n",
       "    }\n",
       "</style>\n",
       "<table border=\"1\" class=\"dataframe\">\n",
       "  <thead>\n",
       "    <tr style=\"text-align: right;\">\n",
       "      <th></th>\n",
       "      <th>Open</th>\n",
       "      <th>High</th>\n",
       "      <th>Low</th>\n",
       "      <th>Close</th>\n",
       "      <th>Change</th>\n",
       "    </tr>\n",
       "  </thead>\n",
       "  <tbody>\n",
       "    <tr>\n",
       "      <th>0</th>\n",
       "      <td>31722.16</td>\n",
       "      <td>31800.90</td>\n",
       "      <td>31597.31</td>\n",
       "      <td>31626.19</td>\n",
       "      <td>-21.38</td>\n",
       "    </tr>\n",
       "    <tr>\n",
       "      <th>1</th>\n",
       "      <td>31874.78</td>\n",
       "      <td>31958.58</td>\n",
       "      <td>31612.55</td>\n",
       "      <td>31647.57</td>\n",
       "      <td>-203.61</td>\n",
       "    </tr>\n",
       "    <tr>\n",
       "      <th>2</th>\n",
       "      <td>31748.75</td>\n",
       "      <td>31904.30</td>\n",
       "      <td>31749.43</td>\n",
       "      <td>31851.18</td>\n",
       "      <td>91.36</td>\n",
       "    </tr>\n",
       "    <tr>\n",
       "      <th>3</th>\n",
       "      <td>32049.85</td>\n",
       "      <td>32104.67</td>\n",
       "      <td>31745.72</td>\n",
       "      <td>31759.82</td>\n",
       "      <td>-288.86</td>\n",
       "    </tr>\n",
       "    <tr>\n",
       "      <th>4</th>\n",
       "      <td>32166.21</td>\n",
       "      <td>32390.77</td>\n",
       "      <td>32044.01</td>\n",
       "      <td>32048.68</td>\n",
       "      <td>-93.15</td>\n",
       "    </tr>\n",
       "  </tbody>\n",
       "</table>\n",
       "</div>"
      ],
      "text/plain": [
       "       Open      High       Low     Close  Change\n",
       "0  31722.16  31800.90  31597.31  31626.19  -21.38\n",
       "1  31874.78  31958.58  31612.55  31647.57 -203.61\n",
       "2  31748.75  31904.30  31749.43  31851.18   91.36\n",
       "3  32049.85  32104.67  31745.72  31759.82 -288.86\n",
       "4  32166.21  32390.77  32044.01  32048.68  -93.15"
      ]
     },
     "execution_count": 14,
     "metadata": {},
     "output_type": "execute_result"
    }
   ],
   "source": [
    "X.head()"
   ]
  },
  {
   "cell_type": "code",
   "execution_count": 15,
   "metadata": {},
   "outputs": [],
   "source": [
    "# Making test and train sets of data\n",
    "\n",
    "X_train, X_test, y_train, y_test = train_test_split(X, y, \n",
    "                                                    test_size=0.3, random_state=42)\n"
   ]
  },
  {
   "cell_type": "code",
   "execution_count": 16,
   "metadata": {},
   "outputs": [
    {
     "data": {
      "text/html": [
       "<div>\n",
       "<style scoped>\n",
       "    .dataframe tbody tr th:only-of-type {\n",
       "        vertical-align: middle;\n",
       "    }\n",
       "\n",
       "    .dataframe tbody tr th {\n",
       "        vertical-align: top;\n",
       "    }\n",
       "\n",
       "    .dataframe thead th {\n",
       "        text-align: right;\n",
       "    }\n",
       "</style>\n",
       "<table border=\"1\" class=\"dataframe\">\n",
       "  <thead>\n",
       "    <tr style=\"text-align: right;\">\n",
       "      <th></th>\n",
       "      <th>Mean Square Error</th>\n",
       "    </tr>\n",
       "  </thead>\n",
       "  <tbody>\n",
       "    <tr>\n",
       "      <th>train</th>\n",
       "      <td>1.417859e+16</td>\n",
       "    </tr>\n",
       "    <tr>\n",
       "      <th>test</th>\n",
       "      <td>1.368677e+16</td>\n",
       "    </tr>\n",
       "  </tbody>\n",
       "</table>\n",
       "</div>"
      ],
      "text/plain": [
       "       Mean Square Error\n",
       "train       1.417859e+16\n",
       "test        1.368677e+16"
      ]
     },
     "execution_count": 16,
     "metadata": {},
     "output_type": "execute_result"
    }
   ],
   "source": [
    "# Applying Linear Regaression\n",
    "\n",
    "from sklearn.linear_model import LinearRegression\n",
    "from sklearn.metrics import mean_squared_error\n",
    "\n",
    "LR = LinearRegression()\n",
    "\n",
    "# Storage for error values\n",
    "error_df = list()\n",
    "\n",
    "# Data that have not been one-hot encoded\n",
    "LR = LR.fit(X_train, y_train)\n",
    "y_train_pred = LR.predict(X_train)\n",
    "y_test_pred = LR.predict(X_test)\n",
    "\n",
    "error_df.append(pd.Series({'train': mean_squared_error(y_train, y_train_pred),\n",
    "                           'test' : mean_squared_error(y_test,  y_test_pred)},\n",
    "                           name='Mean Square Error'))\n",
    "\n",
    "\n",
    "error_df = pd.concat(error_df, axis=1)\n",
    "error_df"
   ]
  },
  {
   "cell_type": "markdown",
   "metadata": {},
   "source": [
    "For Linear Regression the MSE is nearly same for training and testing set"
   ]
  },
  {
   "cell_type": "code",
   "execution_count": 17,
   "metadata": {},
   "outputs": [],
   "source": [
    "pd.options.mode.chained_assignment = None"
   ]
  },
  {
   "cell_type": "code",
   "execution_count": 18,
   "metadata": {},
   "outputs": [
    {
     "data": {
      "text/html": [
       "<div>\n",
       "<style scoped>\n",
       "    .dataframe tbody tr th:only-of-type {\n",
       "        vertical-align: middle;\n",
       "    }\n",
       "\n",
       "    .dataframe tbody tr th {\n",
       "        vertical-align: top;\n",
       "    }\n",
       "\n",
       "    .dataframe thead th {\n",
       "        text-align: right;\n",
       "    }\n",
       "</style>\n",
       "<table border=\"1\" class=\"dataframe\">\n",
       "  <thead>\n",
       "    <tr style=\"text-align: right;\">\n",
       "      <th></th>\n",
       "      <th>Open</th>\n",
       "      <th>High</th>\n",
       "      <th>Low</th>\n",
       "      <th>Close</th>\n",
       "      <th>Change</th>\n",
       "    </tr>\n",
       "  </thead>\n",
       "  <tbody>\n",
       "    <tr>\n",
       "      <th>767</th>\n",
       "      <td>31240.71</td>\n",
       "      <td>31489.82</td>\n",
       "      <td>31022.99</td>\n",
       "      <td>31229.84</td>\n",
       "      <td>118.06</td>\n",
       "    </tr>\n",
       "    <tr>\n",
       "      <th>787</th>\n",
       "      <td>28238.42</td>\n",
       "      <td>28452.44</td>\n",
       "      <td>28135.45</td>\n",
       "      <td>28367.24</td>\n",
       "      <td>156.64</td>\n",
       "    </tr>\n",
       "    <tr>\n",
       "      <th>2810</th>\n",
       "      <td>6573.42</td>\n",
       "      <td>6644.86</td>\n",
       "      <td>6386.29</td>\n",
       "      <td>6506.57</td>\n",
       "      <td>-71.18</td>\n",
       "    </tr>\n",
       "    <tr>\n",
       "      <th>1289</th>\n",
       "      <td>23074.01</td>\n",
       "      <td>23084.37</td>\n",
       "      <td>22918.81</td>\n",
       "      <td>22918.81</td>\n",
       "      <td>-139.75</td>\n",
       "    </tr>\n",
       "    <tr>\n",
       "      <th>930</th>\n",
       "      <td>35503.17</td>\n",
       "      <td>35924.62</td>\n",
       "      <td>35503.17</td>\n",
       "      <td>35863.66</td>\n",
       "      <td>431.54</td>\n",
       "    </tr>\n",
       "    <tr>\n",
       "      <th>...</th>\n",
       "      <td>...</td>\n",
       "      <td>...</td>\n",
       "      <td>...</td>\n",
       "      <td>...</td>\n",
       "      <td>...</td>\n",
       "    </tr>\n",
       "    <tr>\n",
       "      <th>1095</th>\n",
       "      <td>27484.44</td>\n",
       "      <td>27569.37</td>\n",
       "      <td>27396.17</td>\n",
       "      <td>27526.47</td>\n",
       "      <td>95.09</td>\n",
       "    </tr>\n",
       "    <tr>\n",
       "      <th>1130</th>\n",
       "      <td>26383.18</td>\n",
       "      <td>26499.56</td>\n",
       "      <td>26264.00</td>\n",
       "      <td>26292.27</td>\n",
       "      <td>-79.02</td>\n",
       "    </tr>\n",
       "    <tr>\n",
       "      <th>1294</th>\n",
       "      <td>22813.40</td>\n",
       "      <td>22931.44</td>\n",
       "      <td>22811.41</td>\n",
       "      <td>22866.45</td>\n",
       "      <td>77.91</td>\n",
       "    </tr>\n",
       "    <tr>\n",
       "      <th>860</th>\n",
       "      <td>29665.88</td>\n",
       "      <td>29752.41</td>\n",
       "      <td>29246.40</td>\n",
       "      <td>29419.07</td>\n",
       "      <td>-264.31</td>\n",
       "    </tr>\n",
       "    <tr>\n",
       "      <th>3174</th>\n",
       "      <td>10909.31</td>\n",
       "      <td>10909.31</td>\n",
       "      <td>10745.58</td>\n",
       "      <td>10777.40</td>\n",
       "      <td>-136.31</td>\n",
       "    </tr>\n",
       "  </tbody>\n",
       "</table>\n",
       "<p>2254 rows × 5 columns</p>\n",
       "</div>"
      ],
      "text/plain": [
       "          Open      High       Low     Close  Change\n",
       "767   31240.71  31489.82  31022.99  31229.84  118.06\n",
       "787   28238.42  28452.44  28135.45  28367.24  156.64\n",
       "2810   6573.42   6644.86   6386.29   6506.57  -71.18\n",
       "1289  23074.01  23084.37  22918.81  22918.81 -139.75\n",
       "930   35503.17  35924.62  35503.17  35863.66  431.54\n",
       "...        ...       ...       ...       ...     ...\n",
       "1095  27484.44  27569.37  27396.17  27526.47   95.09\n",
       "1130  26383.18  26499.56  26264.00  26292.27  -79.02\n",
       "1294  22813.40  22931.44  22811.41  22866.45   77.91\n",
       "860   29665.88  29752.41  29246.40  29419.07 -264.31\n",
       "3174  10909.31  10909.31  10745.58  10777.40 -136.31\n",
       "\n",
       "[2254 rows x 5 columns]"
      ]
     },
     "execution_count": 18,
     "metadata": {},
     "output_type": "execute_result"
    }
   ],
   "source": [
    "X_train"
   ]
  },
  {
   "cell_type": "code",
   "execution_count": 19,
   "metadata": {},
   "outputs": [
    {
     "data": {
      "text/plain": [
       "Open      float64\n",
       "High      float64\n",
       "Low       float64\n",
       "Close     float64\n",
       "Change    float64\n",
       "dtype: object"
      ]
     },
     "execution_count": 19,
     "metadata": {},
     "output_type": "execute_result"
    }
   ],
   "source": [
    "X_train.dtypes"
   ]
  },
  {
   "cell_type": "code",
   "execution_count": 20,
   "metadata": {},
   "outputs": [
    {
     "name": "stdout",
     "output_type": "stream",
     "text": [
      "not_encoded - standardscaling    1.368677e+16\n",
      "not_encoded - minmaxscaling      1.368677e+16\n",
      "not_encoded - maxabsscaling      1.368677e+16\n",
      "--------------------------------------------------------------------------------\n",
      "not_encoded - standardscaling 1.3686766236454764e+16\n",
      "not_encoded - minmaxscaling 1.3686766236454772e+16\n",
      "not_encoded - maxabsscaling 1.3686766236454758e+16\n"
     ]
    }
   ],
   "source": [
    "# Seeing the effect of scaling \n",
    "\n",
    "from sklearn.preprocessing import StandardScaler, MinMaxScaler, MaxAbsScaler\n",
    "\n",
    "\n",
    "scalers = {'standard': StandardScaler(),\n",
    "           'minmax': MinMaxScaler(),\n",
    "           'maxabs': MaxAbsScaler()}\n",
    "\n",
    "\n",
    "training_test_sets = {\n",
    "    'not_encoded': (X_train, y_train, X_test, y_test)}\n",
    "\n",
    "\n",
    "# Get the list of float columns, and the float data\n",
    "# so that we don't scale something we already scaled. \n",
    "# We're supposed to scale the original data each time\n",
    "\n",
    "mask = X_train.dtypes == np.float\n",
    "float_columns = X_train.columns[mask]\n",
    "\n",
    "# initialize model\n",
    "LR = LinearRegression()\n",
    "\n",
    "# iterate over all possible combinations and get the errors\n",
    "errors = {}\n",
    "for encoding_label, (_X_train, _y_train, _X_test, _y_test) in training_test_sets.items():\n",
    "    for scaler_label, scaler in scalers.items():\n",
    "        trainingset = _X_train.copy()  # copy because we dont want to scale this more than once.\n",
    "        testset = _X_test.copy()\n",
    "        trainingset[float_columns] = scaler.fit_transform(trainingset[float_columns])\n",
    "        testset[float_columns] = scaler.transform(testset[float_columns])\n",
    "        LR.fit(trainingset, _y_train)\n",
    "        predictions = LR.predict(testset)\n",
    "        key = encoding_label + ' - ' + scaler_label + 'scaling'\n",
    "        errors[key] = mean_squared_error(_y_test, predictions)\n",
    "\n",
    "errors = pd.Series(errors)\n",
    "print(errors.to_string())\n",
    "print('-' * 80)\n",
    "for key, error_val in errors.items():\n",
    "    print(key, error_val)"
   ]
  },
  {
   "cell_type": "markdown",
   "metadata": {},
   "source": [
    "No big difference by using transformation so it is not required"
   ]
  },
  {
   "cell_type": "code",
   "execution_count": 21,
   "metadata": {},
   "outputs": [
    {
     "data": {
      "image/png": "[encoded data removed]",
      "text/plain": [
       "<Figure size 432x288 with 1 Axes>"
      ]
     },
     "metadata": {},
     "output_type": "display_data"
    }
   ],
   "source": [
    "import matplotlib.pyplot as plt\n",
    "import seaborn as sns\n",
    "%matplotlib inline\n",
    "\n",
    "\n",
    "sns.set_context('talk')\n",
    "sns.set_style('ticks')\n",
    "sns.set_palette('dark')\n",
    "\n",
    "ax = plt.axes()\n",
    "# we are going to use y_test, y_test_pred\n",
    "ax.scatter(y_test, y_test_pred, alpha=.5)\n",
    "\n",
    "ax.set(xlabel='Ground truth', \n",
    "       ylabel='Predictions',\n",
    "       title='Stocks Predictions vs Ground Truth, using Linear Regression');"
   ]
  },
  {
   "cell_type": "markdown",
   "metadata": {},
   "source": [
    "### Using Kfolds"
   ]
  },
  {
   "cell_type": "code",
   "execution_count": 22,
   "metadata": {},
   "outputs": [],
   "source": [
    "kf = KFold(shuffle=True, random_state=72018, n_splits=3)"
   ]
  },
  {
   "cell_type": "code",
   "execution_count": 23,
   "metadata": {},
   "outputs": [
    {
     "name": "stdout",
     "output_type": "stream",
     "text": [
      "Train index: [ 0  2  3  4  5  7  8 10 11 12] 2147\n",
      "Test index: [ 1  6  9 15 17 18 21 22 23 30] 1074\n",
      "\n",
      "Train index: [ 0  1  4  6  7  8  9 10 11 12] 2147\n",
      "Test index: [ 2  3  5 14 16 19 20 24 26 27] 1074\n",
      "\n",
      "Train index: [ 1  2  3  5  6  9 14 15 16 17] 2148\n",
      "Test index: [ 0  4  7  8 10 11 12 13 25 28] 1073\n",
      "\n"
     ]
    }
   ],
   "source": [
    "\n",
    "for train_index, test_index in kf.split(X):\n",
    "    print(\"Train index:\", train_index[:10], len(train_index))\n",
    "    print(\"Test index:\",test_index[:10], len(test_index))\n",
    "    print('')"
   ]
  },
  {
   "cell_type": "code",
   "execution_count": 24,
   "metadata": {},
   "outputs": [
    {
     "data": {
      "text/plain": [
       "[0.24403273215319998, 0.20678344963496753, 0.21933033348969955]"
      ]
     },
     "execution_count": 24,
     "metadata": {},
     "output_type": "execute_result"
    }
   ],
   "source": [
    "#from sklearn.metrics import r2_score, mean_squared_error\n",
    "\n",
    "scores = []\n",
    "lr = LinearRegression()\n",
    "\n",
    "for train_index, test_index in kf.split(X):\n",
    "    X_train, X_test, y_train, y_test = (X.iloc[train_index, :], \n",
    "                                        X.iloc[test_index, :], \n",
    "                                        y[train_index], \n",
    "                                        y[test_index])\n",
    "    \n",
    "    lr.fit(X_train, y_train)\n",
    "        \n",
    "    y_pred = lr.predict(X_test)\n",
    "\n",
    "    score = r2_score(y_test.values, y_pred)\n",
    "    \n",
    "    scores.append(score)\n",
    "    \n",
    "scores"
   ]
  },
  {
   "cell_type": "markdown",
   "metadata": {},
   "source": [
    "Using Kfold random sampling shows that mean square error is same so we can use any train and test set  from dataframe"
   ]
  },
  {
   "cell_type": "code",
   "execution_count": 25,
   "metadata": {},
   "outputs": [
    {
     "data": {
      "text/plain": [
       "[0.24403273215319998, 0.20678344963496842, 0.21933033348969977]"
      ]
     },
     "execution_count": 25,
     "metadata": {},
     "output_type": "execute_result"
    }
   ],
   "source": [
    "scores = []\n",
    "\n",
    "lr = LinearRegression()\n",
    "s = StandardScaler()\n",
    "\n",
    "for train_index, test_index in kf.split(X):\n",
    "    X_train, X_test, y_train, y_test = (X.iloc[train_index, :], \n",
    "                                        X.iloc[test_index, :], \n",
    "                                        y[train_index], \n",
    "                                        y[test_index])\n",
    "    \n",
    "    X_train_s = s.fit_transform(X_train)\n",
    "    \n",
    "    lr.fit(X_train_s, y_train)\n",
    "    \n",
    "    X_test_s = s.transform(X_test)\n",
    "    \n",
    "    y_pred = lr.predict(X_test_s)\n",
    "\n",
    "    score = r2_score(y_test.values, y_pred)\n",
    "    \n",
    "    scores.append(score)\n",
    "    \n",
    "scores"
   ]
  },
  {
   "cell_type": "markdown",
   "metadata": {},
   "source": [
    "Applying statndar scalar transform on Linear regression on the random train test sets shows that mean square error is same"
   ]
  },
  {
   "cell_type": "markdown",
   "metadata": {},
   "source": [
    "### Using Combine multiple processing steps into a Pipeline and using cross_val_predict"
   ]
  },
  {
   "cell_type": "code",
   "execution_count": 26,
   "metadata": {},
   "outputs": [],
   "source": [
    "s = StandardScaler()\n",
    "lr = LinearRegression()"
   ]
  },
  {
   "cell_type": "code",
   "execution_count": 27,
   "metadata": {},
   "outputs": [],
   "source": [
    "estimator = Pipeline([(\"scaler\", s),\n",
    "                      (\"regression\", lr)])"
   ]
  },
  {
   "cell_type": "code",
   "execution_count": 28,
   "metadata": {},
   "outputs": [
    {
     "data": {
      "text/plain": [
       "KFold(n_splits=3, random_state=72018, shuffle=True)"
      ]
     },
     "execution_count": 28,
     "metadata": {},
     "output_type": "execute_result"
    }
   ],
   "source": [
    "kf"
   ]
  },
  {
   "cell_type": "code",
   "execution_count": 29,
   "metadata": {},
   "outputs": [],
   "source": [
    "predictions = cross_val_predict(estimator, X, y, cv=kf)"
   ]
  },
  {
   "cell_type": "code",
   "execution_count": 30,
   "metadata": {},
   "outputs": [
    {
     "data": {
      "text/plain": [
       "0.22443001302912113"
      ]
     },
     "execution_count": 30,
     "metadata": {},
     "output_type": "execute_result"
    }
   ],
   "source": [
    "r2_score(y, predictions)"
   ]
  },
  {
   "cell_type": "code",
   "execution_count": 31,
   "metadata": {},
   "outputs": [
    {
     "data": {
      "text/plain": [
       "0.2233821717592894"
      ]
     },
     "execution_count": 31,
     "metadata": {},
     "output_type": "execute_result"
    }
   ],
   "source": [
    "np.mean(scores) # almost identical!"
   ]
  },
  {
   "cell_type": "markdown",
   "metadata": {},
   "source": [
    "## Hyperparameter tuning"
   ]
  },
  {
   "cell_type": "code",
   "execution_count": 32,
   "metadata": {},
   "outputs": [
    {
     "data": {
      "text/plain": [
       "array([1.e-09, 1.e-08, 1.e-07, 1.e-06, 1.e-05, 1.e-04, 1.e-03, 1.e-02,\n",
       "       1.e-01, 1.e+00])"
      ]
     },
     "execution_count": 32,
     "metadata": {},
     "output_type": "execute_result"
    }
   ],
   "source": [
    "alphas = np.geomspace(1e-9, 1e0, num=10)\n",
    "alphas"
   ]
  },
  {
   "cell_type": "code",
   "execution_count": 33,
   "metadata": {},
   "outputs": [
    {
     "name": "stderr",
     "output_type": "stream",
     "text": [
      "C:\\Users\\Amin\\anaconda3\\lib\\site-packages\\sklearn\\linear_model\\_coordinate_descent.py:529: ConvergenceWarning: Objective did not converge. You might want to increase the number of iterations. Duality gap: 1.5127163807835048e+19, tolerance: 3877809663550336.5\n",
      "  model = cd_fast.enet_coordinate_descent(\n",
      "C:\\Users\\Amin\\anaconda3\\lib\\site-packages\\sklearn\\linear_model\\_coordinate_descent.py:529: ConvergenceWarning: Objective did not converge. You might want to increase the number of iterations. Duality gap: 1.579839154574192e+19, tolerance: 4137817190372711.0\n",
      "  model = cd_fast.enet_coordinate_descent(\n",
      "C:\\Users\\Amin\\anaconda3\\lib\\site-packages\\sklearn\\linear_model\\_coordinate_descent.py:529: ConvergenceWarning: Objective did not converge. You might want to increase the number of iterations. Duality gap: 1.4198085229649177e+19, tolerance: 3698891959867915.0\n",
      "  model = cd_fast.enet_coordinate_descent(\n",
      "C:\\Users\\Amin\\anaconda3\\lib\\site-packages\\sklearn\\linear_model\\_coordinate_descent.py:529: ConvergenceWarning: Objective did not converge. You might want to increase the number of iterations. Duality gap: 1.5127163807703638e+19, tolerance: 3877809663550336.5\n",
      "  model = cd_fast.enet_coordinate_descent(\n",
      "C:\\Users\\Amin\\anaconda3\\lib\\site-packages\\sklearn\\linear_model\\_coordinate_descent.py:529: ConvergenceWarning: Objective did not converge. You might want to increase the number of iterations. Duality gap: 1.579839154372444e+19, tolerance: 4137817190372711.0\n",
      "  model = cd_fast.enet_coordinate_descent(\n",
      "C:\\Users\\Amin\\anaconda3\\lib\\site-packages\\sklearn\\linear_model\\_coordinate_descent.py:529: ConvergenceWarning: Objective did not converge. You might want to increase the number of iterations. Duality gap: 1.4198085228302764e+19, tolerance: 3698891959867915.0\n",
      "  model = cd_fast.enet_coordinate_descent(\n",
      "C:\\Users\\Amin\\anaconda3\\lib\\site-packages\\sklearn\\linear_model\\_coordinate_descent.py:529: ConvergenceWarning: Objective did not converge. You might want to increase the number of iterations. Duality gap: 1.5127163806391546e+19, tolerance: 3877809663550336.5\n",
      "  model = cd_fast.enet_coordinate_descent(\n",
      "C:\\Users\\Amin\\anaconda3\\lib\\site-packages\\sklearn\\linear_model\\_coordinate_descent.py:529: ConvergenceWarning: Objective did not converge. You might want to increase the number of iterations. Duality gap: 1.5798391523555525e+19, tolerance: 4137817190372711.0\n",
      "  model = cd_fast.enet_coordinate_descent(\n",
      "C:\\Users\\Amin\\anaconda3\\lib\\site-packages\\sklearn\\linear_model\\_coordinate_descent.py:529: ConvergenceWarning: Objective did not converge. You might want to increase the number of iterations. Duality gap: 1.4198085214833426e+19, tolerance: 3698891959867915.0\n",
      "  model = cd_fast.enet_coordinate_descent(\n",
      "C:\\Users\\Amin\\anaconda3\\lib\\site-packages\\sklearn\\linear_model\\_coordinate_descent.py:529: ConvergenceWarning: Objective did not converge. You might want to increase the number of iterations. Duality gap: 1.5127163793262883e+19, tolerance: 3877809663550336.5\n",
      "  model = cd_fast.enet_coordinate_descent(\n",
      "C:\\Users\\Amin\\anaconda3\\lib\\site-packages\\sklearn\\linear_model\\_coordinate_descent.py:529: ConvergenceWarning: Objective did not converge. You might want to increase the number of iterations. Duality gap: 1.5798391321860112e+19, tolerance: 4137817190372711.0\n",
      "  model = cd_fast.enet_coordinate_descent(\n",
      "C:\\Users\\Amin\\anaconda3\\lib\\site-packages\\sklearn\\linear_model\\_coordinate_descent.py:529: ConvergenceWarning: Objective did not converge. You might want to increase the number of iterations. Duality gap: 1.4198085080145623e+19, tolerance: 3698891959867915.0\n",
      "  model = cd_fast.enet_coordinate_descent(\n",
      "C:\\Users\\Amin\\anaconda3\\lib\\site-packages\\sklearn\\linear_model\\_coordinate_descent.py:529: ConvergenceWarning: Objective did not converge. You might want to increase the number of iterations. Duality gap: 1.5127163661978075e+19, tolerance: 3877809663550336.5\n",
      "  model = cd_fast.enet_coordinate_descent(\n",
      "C:\\Users\\Amin\\anaconda3\\lib\\site-packages\\sklearn\\linear_model\\_coordinate_descent.py:529: ConvergenceWarning: Objective did not converge. You might want to increase the number of iterations. Duality gap: 1.5798389304910983e+19, tolerance: 4137817190372711.0\n",
      "  model = cd_fast.enet_coordinate_descent(\n",
      "C:\\Users\\Amin\\anaconda3\\lib\\site-packages\\sklearn\\linear_model\\_coordinate_descent.py:529: ConvergenceWarning: Objective did not converge. You might want to increase the number of iterations. Duality gap: 1.4198083733265345e+19, tolerance: 3698891959867915.0\n",
      "  model = cd_fast.enet_coordinate_descent(\n",
      "C:\\Users\\Amin\\anaconda3\\lib\\site-packages\\sklearn\\linear_model\\_coordinate_descent.py:529: ConvergenceWarning: Objective did not converge. You might want to increase the number of iterations. Duality gap: 1.5127162349125218e+19, tolerance: 3877809663550336.5\n",
      "  model = cd_fast.enet_coordinate_descent(\n",
      "C:\\Users\\Amin\\anaconda3\\lib\\site-packages\\sklearn\\linear_model\\_coordinate_descent.py:529: ConvergenceWarning: Objective did not converge. You might want to increase the number of iterations. Duality gap: 1.5798369135413629e+19, tolerance: 4137817190372711.0\n",
      "  model = cd_fast.enet_coordinate_descent(\n",
      "C:\\Users\\Amin\\anaconda3\\lib\\site-packages\\sklearn\\linear_model\\_coordinate_descent.py:529: ConvergenceWarning: Objective did not converge. You might want to increase the number of iterations. Duality gap: 1.419807026447314e+19, tolerance: 3698891959867915.0\n",
      "  model = cd_fast.enet_coordinate_descent(\n",
      "C:\\Users\\Amin\\anaconda3\\lib\\site-packages\\sklearn\\linear_model\\_coordinate_descent.py:529: ConvergenceWarning: Objective did not converge. You might want to increase the number of iterations. Duality gap: 1.5127149220608686e+19, tolerance: 3877809663550336.5\n",
      "  model = cd_fast.enet_coordinate_descent(\n",
      "C:\\Users\\Amin\\anaconda3\\lib\\site-packages\\sklearn\\linear_model\\_coordinate_descent.py:529: ConvergenceWarning: Objective did not converge. You might want to increase the number of iterations. Duality gap: 1.5798167439720288e+19, tolerance: 4137817190372711.0\n",
      "  model = cd_fast.enet_coordinate_descent(\n",
      "C:\\Users\\Amin\\anaconda3\\lib\\site-packages\\sklearn\\linear_model\\_coordinate_descent.py:529: ConvergenceWarning: Objective did not converge. You might want to increase the number of iterations. Duality gap: 1.4197935577602093e+19, tolerance: 3698891959867915.0\n",
      "  model = cd_fast.enet_coordinate_descent(\n",
      "C:\\Users\\Amin\\anaconda3\\lib\\site-packages\\sklearn\\linear_model\\_coordinate_descent.py:529: ConvergenceWarning: Objective did not converge. You might want to increase the number of iterations. Duality gap: 1.5127017936324665e+19, tolerance: 3877809663550336.5\n",
      "  model = cd_fast.enet_coordinate_descent(\n",
      "C:\\Users\\Amin\\anaconda3\\lib\\site-packages\\sklearn\\linear_model\\_coordinate_descent.py:529: ConvergenceWarning: Objective did not converge. You might want to increase the number of iterations. Duality gap: 1.5796150411313445e+19, tolerance: 4137817190372711.0\n",
      "  model = cd_fast.enet_coordinate_descent(\n",
      "C:\\Users\\Amin\\anaconda3\\lib\\site-packages\\sklearn\\linear_model\\_coordinate_descent.py:529: ConvergenceWarning: Objective did not converge. You might want to increase the number of iterations. Duality gap: 1.4196588813997908e+19, tolerance: 3698891959867915.0\n",
      "  model = cd_fast.enet_coordinate_descent(\n",
      "C:\\Users\\Amin\\anaconda3\\lib\\site-packages\\sklearn\\linear_model\\_coordinate_descent.py:529: ConvergenceWarning: Objective did not converge. You might want to increase the number of iterations. Duality gap: 1.5125705181906905e+19, tolerance: 3877809663550336.5\n",
      "  model = cd_fast.enet_coordinate_descent(\n",
      "C:\\Users\\Amin\\anaconda3\\lib\\site-packages\\sklearn\\linear_model\\_coordinate_descent.py:529: ConvergenceWarning: Objective did not converge. You might want to increase the number of iterations. Duality gap: 1.5775972979186082e+19, tolerance: 4137817190372711.0\n",
      "  model = cd_fast.enet_coordinate_descent(\n",
      "C:\\Users\\Amin\\anaconda3\\lib\\site-packages\\sklearn\\linear_model\\_coordinate_descent.py:529: ConvergenceWarning: Objective did not converge. You might want to increase the number of iterations. Duality gap: 1.41831316815694e+19, tolerance: 3698891959867915.0\n",
      "  model = cd_fast.enet_coordinate_descent(\n",
      "C:\\Users\\Amin\\anaconda3\\lib\\site-packages\\sklearn\\linear_model\\_coordinate_descent.py:529: ConvergenceWarning: Objective did not converge. You might want to increase the number of iterations. Duality gap: 1.5112586473990269e+19, tolerance: 3877809663550336.5\n",
      "  model = cd_fast.enet_coordinate_descent(\n"
     ]
    },
    {
     "name": "stderr",
     "output_type": "stream",
     "text": [
      "C:\\Users\\Amin\\anaconda3\\lib\\site-packages\\sklearn\\linear_model\\_coordinate_descent.py:529: ConvergenceWarning: Objective did not converge. You might want to increase the number of iterations. Duality gap: 1.557348384506723e+19, tolerance: 4137817190372711.0\n",
      "  model = cd_fast.enet_coordinate_descent(\n",
      "C:\\Users\\Amin\\anaconda3\\lib\\site-packages\\sklearn\\linear_model\\_coordinate_descent.py:529: ConvergenceWarning: Objective did not converge. You might want to increase the number of iterations. Duality gap: 1.4049603419113396e+19, tolerance: 3698891959867915.0\n",
      "  model = cd_fast.enet_coordinate_descent(\n"
     ]
    }
   ],
   "source": [
    "# Using Lasso Regression\n",
    "\n",
    "scores = []\n",
    "coefs = []\n",
    "for alpha in alphas:\n",
    "    las = Lasso(alpha=alpha, max_iter=100000)\n",
    "    \n",
    "    estimator = Pipeline([\n",
    "        (\"scaler\", s),\n",
    "        (\"lasso_regression\", las)])\n",
    "\n",
    "    predictions = cross_val_predict(estimator, X, y, cv = kf)\n",
    "    \n",
    "    score = r2_score(y, predictions)\n",
    "    \n",
    "    scores.append(score)"
   ]
  },
  {
   "cell_type": "code",
   "execution_count": 34,
   "metadata": {},
   "outputs": [
    {
     "data": {
      "text/plain": [
       "[(1e-09, 0.22446551973902773),\n",
       " (1e-08, 0.22446551973902695),\n",
       " (1e-07, 0.22446551973902806),\n",
       " (1e-06, 0.22446551973909867),\n",
       " (1e-05, 0.22446551973980367),\n",
       " (0.0001, 0.22446551974677964),\n",
       " (0.001, 0.2244655198164629),\n",
       " (0.01, 0.22446552051332114),\n",
       " (0.1, 0.22446552748201365),\n",
       " (1.0, 0.22446559715736347)]"
      ]
     },
     "execution_count": 34,
     "metadata": {},
     "output_type": "execute_result"
    }
   ],
   "source": [
    "list(zip(alphas,scores))"
   ]
  },
  {
   "cell_type": "code",
   "execution_count": 35,
   "metadata": {},
   "outputs": [
    {
     "name": "stderr",
     "output_type": "stream",
     "text": [
      "C:\\Users\\Amin\\anaconda3\\lib\\site-packages\\sklearn\\linear_model\\_coordinate_descent.py:529: ConvergenceWarning: Objective did not converge. You might want to increase the number of iterations. Duality gap: 2.336346396518895e+19, tolerance: 5858066507907808.0\n",
      "  model = cd_fast.enet_coordinate_descent(\n"
     ]
    },
    {
     "data": {
      "text/plain": [
       "array([ -6141.37943087,  20152.53018621, -10095.04435393,   1992.87612549,\n",
       "        56621.63939419])"
      ]
     },
     "execution_count": 35,
     "metadata": {},
     "output_type": "execute_result"
    }
   ],
   "source": [
    "Lasso(alpha=1e-6).fit(X, y).coef_"
   ]
  },
  {
   "cell_type": "code",
   "execution_count": 36,
   "metadata": {},
   "outputs": [
    {
     "name": "stderr",
     "output_type": "stream",
     "text": [
      "C:\\Users\\Amin\\anaconda3\\lib\\site-packages\\sklearn\\linear_model\\_coordinate_descent.py:529: ConvergenceWarning: Objective did not converge. You might want to increase the number of iterations. Duality gap: 2.3363463921408287e+19, tolerance: 5858066507907808.0\n",
      "  model = cd_fast.enet_coordinate_descent(\n"
     ]
    },
    {
     "data": {
      "text/plain": [
       "array([ -6141.37942541,  20152.53017778, -10095.04433239,   1992.87610708,\n",
       "        56621.63938639])"
      ]
     },
     "execution_count": 36,
     "metadata": {},
     "output_type": "execute_result"
    }
   ],
   "source": [
    "Lasso(alpha=1.0).fit(X, y).coef_"
   ]
  },
  {
   "cell_type": "code",
   "execution_count": 37,
   "metadata": {},
   "outputs": [
    {
     "data": {
      "text/plain": [
       "Text(0.5, 1.0, 'Lasso Regression')"
      ]
     },
     "execution_count": 37,
     "metadata": {},
     "output_type": "execute_result"
    },
    {
     "data": {
      "image/png": "[encoded data removed]",
      "text/plain": [
       "<Figure size 720x432 with 1 Axes>"
      ]
     },
     "metadata": {},
     "output_type": "display_data"
    }
   ],
   "source": [
    "plt.figure(figsize=(10,6))\n",
    "plt.semilogx(alphas, scores, '-o')\n",
    "plt.xlabel('$\\\\alpha$')\n",
    "plt.ylabel('$R^2$');\n",
    "plt.title(\"Lasso Regression\")"
   ]
  },
  {
   "cell_type": "code",
   "execution_count": null,
   "metadata": {},
   "outputs": [
    {
     "name": "stderr",
     "output_type": "stream",
     "text": [
      "C:\\Users\\Amin\\anaconda3\\lib\\site-packages\\sklearn\\linear_model\\_coordinate_descent.py:529: ConvergenceWarning: Objective did not converge. You might want to increase the number of iterations. Duality gap: 1.4216769624768008e+19, tolerance: 3877809663550336.5\n",
      "  model = cd_fast.enet_coordinate_descent(\n",
      "C:\\Users\\Amin\\anaconda3\\lib\\site-packages\\sklearn\\linear_model\\_coordinate_descent.py:529: ConvergenceWarning: Objective did not converge. You might want to increase the number of iterations. Duality gap: 1.483559266330553e+19, tolerance: 4137817190372711.0\n",
      "  model = cd_fast.enet_coordinate_descent(\n",
      "C:\\Users\\Amin\\anaconda3\\lib\\site-packages\\sklearn\\linear_model\\_coordinate_descent.py:529: ConvergenceWarning: Objective did not converge. You might want to increase the number of iterations. Duality gap: 1.325129098328944e+19, tolerance: 3698891959867915.0\n",
      "  model = cd_fast.enet_coordinate_descent(\n",
      "C:\\Users\\Amin\\anaconda3\\lib\\site-packages\\sklearn\\linear_model\\_coordinate_descent.py:529: ConvergenceWarning: Objective did not converge. You might want to increase the number of iterations. Duality gap: 1.4216765914959671e+19, tolerance: 3877809663550336.5\n",
      "  model = cd_fast.enet_coordinate_descent(\n",
      "C:\\Users\\Amin\\anaconda3\\lib\\site-packages\\sklearn\\linear_model\\_coordinate_descent.py:529: ConvergenceWarning: Objective did not converge. You might want to increase the number of iterations. Duality gap: 1.4835591459997028e+19, tolerance: 4137817190372711.0\n",
      "  model = cd_fast.enet_coordinate_descent(\n",
      "C:\\Users\\Amin\\anaconda3\\lib\\site-packages\\sklearn\\linear_model\\_coordinate_descent.py:529: ConvergenceWarning: Objective did not converge. You might want to increase the number of iterations. Duality gap: 1.3251287672266646e+19, tolerance: 3698891959867915.0\n",
      "  model = cd_fast.enet_coordinate_descent(\n",
      "C:\\Users\\Amin\\anaconda3\\lib\\site-packages\\sklearn\\linear_model\\_coordinate_descent.py:529: ConvergenceWarning: Objective did not converge. You might want to increase the number of iterations. Duality gap: 1.4216761187625546e+19, tolerance: 3877809663550336.5\n",
      "  model = cd_fast.enet_coordinate_descent(\n",
      "C:\\Users\\Amin\\anaconda3\\lib\\site-packages\\sklearn\\linear_model\\_coordinate_descent.py:529: ConvergenceWarning: Objective did not converge. You might want to increase the number of iterations. Duality gap: 1.4835589926647323e+19, tolerance: 4137817190372711.0\n",
      "  model = cd_fast.enet_coordinate_descent(\n",
      "C:\\Users\\Amin\\anaconda3\\lib\\site-packages\\sklearn\\linear_model\\_coordinate_descent.py:529: ConvergenceWarning: Objective did not converge. You might want to increase the number of iterations. Duality gap: 1.325128345310649e+19, tolerance: 3698891959867915.0\n",
      "  model = cd_fast.enet_coordinate_descent(\n",
      "C:\\Users\\Amin\\anaconda3\\lib\\site-packages\\sklearn\\linear_model\\_coordinate_descent.py:529: ConvergenceWarning: Objective did not converge. You might want to increase the number of iterations. Duality gap: 1.4216755163669912e+19, tolerance: 3877809663550336.5\n",
      "  model = cd_fast.enet_coordinate_descent(\n",
      "C:\\Users\\Amin\\anaconda3\\lib\\site-packages\\sklearn\\linear_model\\_coordinate_descent.py:529: ConvergenceWarning: Objective did not converge. You might want to increase the number of iterations. Duality gap: 1.4835587972732842e+19, tolerance: 4137817190372711.0\n",
      "  model = cd_fast.enet_coordinate_descent(\n",
      "C:\\Users\\Amin\\anaconda3\\lib\\site-packages\\sklearn\\linear_model\\_coordinate_descent.py:529: ConvergenceWarning: Objective did not converge. You might want to increase the number of iterations. Duality gap: 1.3251278076725627e+19, tolerance: 3698891959867915.0\n",
      "  model = cd_fast.enet_coordinate_descent(\n",
      "C:\\Users\\Amin\\anaconda3\\lib\\site-packages\\sklearn\\linear_model\\_coordinate_descent.py:529: ConvergenceWarning: Objective did not converge. You might want to increase the number of iterations. Duality gap: 1.4216747487444216e+19, tolerance: 3877809663550336.5\n",
      "  model = cd_fast.enet_coordinate_descent(\n"
     ]
    }
   ],
   "source": [
    "# Using Lasso with ploynomial degree 3 and scaling\n",
    "\n",
    "pf = PolynomialFeatures(degree=3)\n",
    "\n",
    "scores = []\n",
    "alphas = np.geomspace(0.06, 6.0, 20)\n",
    "for alpha in alphas:\n",
    "    las = Lasso(alpha=alpha, max_iter=100000)\n",
    "    \n",
    "    estimator = Pipeline([\n",
    "        (\"scaler\", s),\n",
    "        (\"make_higher_degree\", pf),\n",
    "        (\"lasso_regression\", las)])\n",
    "\n",
    "    predictions = cross_val_predict(estimator, X, y, cv = kf)\n",
    "    \n",
    "    score = r2_score(y, predictions)\n",
    "    \n",
    "    scores.append(score)\n",
    "    "
   ]
  },
  {
   "cell_type": "code",
   "execution_count": null,
   "metadata": {},
   "outputs": [],
   "source": [
    "alphas"
   ]
  },
  {
   "cell_type": "code",
   "execution_count": null,
   "metadata": {},
   "outputs": [],
   "source": [
    "scores"
   ]
  },
  {
   "cell_type": "code",
   "execution_count": null,
   "metadata": {},
   "outputs": [],
   "source": [
    "plt.semilogx(alphas, scores);\n",
    "\n",
    "plt.xlabel('Alpha')\n",
    "plt.ylabel('Scores R^2');\n",
    "plt.title(\"Lasso Regression with polynomial degree=3\")"
   ]
  },
  {
   "cell_type": "code",
   "execution_count": null,
   "metadata": {},
   "outputs": [],
   "source": [
    "# Once we have found the hyperparameter (alpha~1e-2=0.01)\n",
    "# make the model and train it on ALL the data\n",
    "# Then release it into the wild .....\n",
    "best_estimator = Pipeline([\n",
    "                    (\"scaler\", s),\n",
    "                    (\"make_higher_degree\", PolynomialFeatures(degree=2)),\n",
    "                    (\"lasso_regression\", Lasso(alpha=0.03))])\n",
    "\n",
    "best_estimator.fit(X, y)\n",
    "best_estimator.score(X, y)"
   ]
  },
  {
   "cell_type": "code",
   "execution_count": null,
   "metadata": {},
   "outputs": [],
   "source": [
    "best_estimator.named_steps[\"lasso_regression\"].coef_"
   ]
  },
  {
   "cell_type": "code",
   "execution_count": null,
   "metadata": {},
   "outputs": [],
   "source": [
    "pf = PolynomialFeatures(degree=2)\n",
    "alphas = np.geomspace(4, 20, 20)\n",
    "scores=[]\n",
    "for alpha in alphas:\n",
    "    ridge = Ridge(alpha=alpha, max_iter=100000)\n",
    "\n",
    "    estimator = Pipeline([\n",
    "        (\"scaler\", s),\n",
    "        (\"polynomial_features\", pf),\n",
    "        (\"ridge_regression\", ridge)])\n",
    "\n",
    "    predictions = cross_val_predict(estimator, X, y, cv = kf)\n",
    "    score = r2_score(y, predictions)\n",
    "    scores.append(score)\n",
    "\n",
    "plt.plot(alphas, scores)\n",
    "plt.xlabel('Alpha')\n",
    "plt.ylabel('Scores    R^2');\n",
    "plt.title(\"Ridge Regression\")"
   ]
  },
  {
   "cell_type": "code",
   "execution_count": null,
   "metadata": {},
   "outputs": [],
   "source": [
    "# Once we have found the hyperparameter (alpha~1e-2=0.01)\n",
    "# make the model and train it on ALL the data\n",
    "# Then release it into the wild .....\n",
    "best_estimator = Pipeline([\n",
    "                    (\"scaler\", s),\n",
    "                    (\"make_higher_degree\", PolynomialFeatures(degree=2)),\n",
    "                    (\"lasso_regression\", Lasso(alpha=0.03))])\n",
    "\n",
    "best_estimator.fit(X, y)\n",
    "best_estimator.score(X, y)"
   ]
  },
  {
   "cell_type": "code",
   "execution_count": null,
   "metadata": {},
   "outputs": [],
   "source": [
    "best_estimator.named_steps[\"make_higher_degree\"].get_feature_names(input_features=X.columns)"
   ]
  },
  {
   "cell_type": "code",
   "execution_count": null,
   "metadata": {},
   "outputs": [],
   "source": [
    "best_estimator.named_steps[\"lasso_regression\"].coef_"
   ]
  },
  {
   "cell_type": "code",
   "execution_count": null,
   "metadata": {},
   "outputs": [],
   "source": [
    "df_importances = pd.DataFrame(zip(best_estimator.named_steps[\"make_higher_degree\"].get_feature_names(input_features=X.columns),\n",
    "                 best_estimator.named_steps[\"lasso_regression\"].coef_,\n",
    "))"
   ]
  },
  {
   "cell_type": "code",
   "execution_count": null,
   "metadata": {},
   "outputs": [],
   "source": [
    "df_importances.head()"
   ]
  },
  {
   "cell_type": "code",
   "execution_count": null,
   "metadata": {},
   "outputs": [],
   "source": [
    "col_names_dict = dict(zip(list(range(len(X.columns.values))), X.columns.values))"
   ]
  },
  {
   "cell_type": "code",
   "execution_count": null,
   "metadata": {},
   "outputs": [],
   "source": [
    "col_names_dict"
   ]
  },
  {
   "cell_type": "code",
   "execution_count": null,
   "metadata": {},
   "outputs": [],
   "source": [
    "df_importances.sort_values(by=1)"
   ]
  },
  {
   "cell_type": "code",
   "execution_count": null,
   "metadata": {},
   "outputs": [],
   "source": []
  },
  {
   "cell_type": "code",
   "execution_count": null,
   "metadata": {},
   "outputs": [],
   "source": [
    "# Once we have found the hyperparameter (alpha~1e-2=0.01)\n",
    "# make the model and train it on ALL the data\n",
    "# Then release it into the wild .....\n",
    "best_estimator = Pipeline([\n",
    "                    (\"scaler\", s),\n",
    "                    (\"make_higher_degree\", PolynomialFeatures(degree=2)),\n",
    "                    (\"ridge_regression\", Ridge(alpha=0.03))])\n",
    "\n",
    "best_estimator.fit(X, y)\n",
    "best_estimator.score(X, y)"
   ]
  },
  {
   "cell_type": "code",
   "execution_count": null,
   "metadata": {},
   "outputs": [],
   "source": [
    "df_importances_r = pd.DataFrame(zip(best_estimator.named_steps[\"make_higher_degree\"].get_feature_names(input_features=X.columns),\n",
    "                 best_estimator.named_steps[\"ridge_regression\"].coef_,\n",
    "))"
   ]
  },
  {
   "cell_type": "code",
   "execution_count": null,
   "metadata": {},
   "outputs": [],
   "source": [
    "col_names_dict_r = dict(zip(list(range(len(X.columns.values))), X.columns.values))"
   ]
  },
  {
   "cell_type": "code",
   "execution_count": null,
   "metadata": {},
   "outputs": [],
   "source": [
    "df_importances_r.sort_values(by=1)"
   ]
  },
  {
   "cell_type": "code",
   "execution_count": null,
   "metadata": {},
   "outputs": [],
   "source": [
    "from sklearn.model_selection import GridSearchCV\n",
    "\n",
    "# Same estimator as before\n",
    "estimator = Pipeline([(\"scaler\", StandardScaler()),\n",
    "        (\"polynomial_features\", PolynomialFeatures()),\n",
    "        (\"ridge_regression\", Ridge())])\n",
    "\n",
    "params = {\n",
    "    'polynomial_features__degree': [1, 2, 3, 4, 5],\n",
    "    'ridge_regression__alpha': np.geomspace(4, 20, 30)\n",
    "}\n",
    "\n",
    "grid = GridSearchCV(estimator, params, cv=kf)"
   ]
  },
  {
   "cell_type": "code",
   "execution_count": null,
   "metadata": {},
   "outputs": [],
   "source": [
    "grid.fit(X, y)"
   ]
  },
  {
   "cell_type": "code",
   "execution_count": null,
   "metadata": {},
   "outputs": [],
   "source": [
    "grid.best_score_, grid.best_params_"
   ]
  },
  {
   "cell_type": "code",
   "execution_count": null,
   "metadata": {},
   "outputs": [],
   "source": [
    "y_predict = grid.predict(X)"
   ]
  },
  {
   "cell_type": "code",
   "execution_count": null,
   "metadata": {},
   "outputs": [],
   "source": [
    "r2_score(y, y_predict)"
   ]
  },
  {
   "cell_type": "code",
   "execution_count": null,
   "metadata": {},
   "outputs": [],
   "source": [
    "# Notice that \"grid\" is a fit object!\n",
    "# We can use grid.predict(X_test) to get brand new predictions!\n",
    "grid.best_estimator_.named_steps['ridge_regression'].coef_"
   ]
  },
  {
   "cell_type": "code",
   "execution_count": null,
   "metadata": {},
   "outputs": [],
   "source": [
    "pd.DataFrame(grid.cv_results_)"
   ]
  },
  {
   "cell_type": "code",
   "execution_count": null,
   "metadata": {},
   "outputs": [],
   "source": []
  },
  {
   "cell_type": "code",
   "execution_count": null,
   "metadata": {},
   "outputs": [],
   "source": [
    "from sklearn.model_selection import GridSearchCV\n",
    "\n",
    "# Same estimator as before\n",
    "estimator = Pipeline([(\"scaler\", StandardScaler()),\n",
    "        (\"polynomial_features\", PolynomialFeatures()),\n",
    "        (\"lasso_regression\", Lasso())])\n",
    "\n",
    "params = {\n",
    "    'polynomial_features__degree': [1, 2, 3, 4, 5],\n",
    "    'lasso_regression__alpha': np.geomspace(0.06, 6.0, 20)\n",
    "}\n",
    "\n",
    "grid = GridSearchCV(estimator, params, cv=kf)"
   ]
  },
  {
   "cell_type": "code",
   "execution_count": null,
   "metadata": {},
   "outputs": [],
   "source": [
    "grid.fit(X, y)"
   ]
  },
  {
   "cell_type": "code",
   "execution_count": null,
   "metadata": {},
   "outputs": [],
   "source": [
    "grid.best_score_, grid.best_params_"
   ]
  },
  {
   "cell_type": "code",
   "execution_count": null,
   "metadata": {},
   "outputs": [],
   "source": [
    "y_predict = grid.predict(X)"
   ]
  },
  {
   "cell_type": "code",
   "execution_count": null,
   "metadata": {},
   "outputs": [],
   "source": [
    "r2_score(y, y_predict)"
   ]
  },
  {
   "cell_type": "code",
   "execution_count": null,
   "metadata": {},
   "outputs": [],
   "source": [
    "# Notice that \"grid\" is a fit object!\n",
    "# We can use grid.predict(X_test) to get brand new predictions!\n",
    "grid.best_estimator_.named_steps['lasso_regression'].coef_"
   ]
  },
  {
   "cell_type": "code",
   "execution_count": null,
   "metadata": {},
   "outputs": [],
   "source": [
    "pd.DataFrame(grid.cv_results_) "
   ]
  },
  {
   "cell_type": "code",
   "execution_count": null,
   "metadata": {},
   "outputs": [],
   "source": []
  },
  {
   "cell_type": "markdown",
   "metadata": {},
   "source": [
    "### NO SCALING"
   ]
  },
  {
   "cell_type": "code",
   "execution_count": null,
   "metadata": {},
   "outputs": [],
   "source": [
    "from sklearn.metrics import mean_squared_error\n",
    "\n",
    "\n",
    "def rmse(ytrue, ypredicted):\n",
    "    return np.sqrt(mean_squared_error(ytrue, ypredicted))"
   ]
  },
  {
   "cell_type": "code",
   "execution_count": null,
   "metadata": {},
   "outputs": [],
   "source": [
    "from sklearn.linear_model import LinearRegression\n",
    "\n",
    "linearRegression = LinearRegression().fit(X_train, y_train)\n",
    "\n",
    "linearRegression_rmse = rmse(y_test, linearRegression.predict(X_test))\n",
    "\n",
    "print(linearRegression_rmse)"
   ]
  },
  {
   "cell_type": "code",
   "execution_count": null,
   "metadata": {},
   "outputs": [],
   "source": [
    "f = plt.figure(figsize=(6,6))\n",
    "ax = plt.axes()\n",
    "\n",
    "ax.plot(y_test, linearRegression.predict(X_test), \n",
    "         marker='o', ls='', ms=3.0)\n",
    "\n",
    "lim = (0, y_test.max())\n",
    "\n",
    "ax.set(xlabel='Actual Volume', \n",
    "       ylabel='Predicted Volume', \n",
    "       xlim=lim,\n",
    "       ylim=lim,\n",
    "       title='Linear Regression Results');"
   ]
  },
  {
   "cell_type": "code",
   "execution_count": null,
   "metadata": {},
   "outputs": [],
   "source": [
    "from sklearn.linear_model import RidgeCV\n",
    "\n",
    "from sklearn.linear_model import Ridge, Lasso\n",
    "\n",
    "alphas = [0.005, 0.05, 0.1, 0.3, 1, 3, 5, 10, 15, 30, 80]\n",
    "\n",
    "ridgeCV = RidgeCV(alphas=alphas, \n",
    "                  cv=kf).fit(X_train, y_train)\n",
    "\n",
    "ridgeCV_rmse = rmse(y_test, ridgeCV.predict(X_test))\n",
    "\n",
    "print(ridgeCV.alpha_, ridgeCV_rmse)"
   ]
  },
  {
   "cell_type": "code",
   "execution_count": null,
   "metadata": {},
   "outputs": [],
   "source": [
    "f = plt.figure(figsize=(6,6))\n",
    "ax = plt.axes()\n",
    "\n",
    "ax.plot(y_test, ridgeCV.predict(X_test), \n",
    "         marker='o', ls='', ms=3.0)\n",
    "\n",
    "lim = (0, y_test.max())\n",
    "\n",
    "ax.set(xlabel='Actual Volume', \n",
    "       ylabel='Predicted Volume', \n",
    "       xlim=lim,\n",
    "       ylim=lim,\n",
    "       title='Ridge Regression Results');"
   ]
  },
  {
   "cell_type": "code",
   "execution_count": null,
   "metadata": {},
   "outputs": [],
   "source": [
    "from sklearn.linear_model import LassoCV\n",
    "\n",
    "alphas2 = np.array([1e-5, 5e-5, 0.0001, 0.0005])\n",
    "\n",
    "lassoCV = LassoCV(alphas=alphas2,\n",
    "                  max_iter=5e4,\n",
    "                  cv=kf).fit(X_train, y_train)\n",
    "\n",
    "lassoCV_rmse = rmse(y_test, lassoCV.predict(X_test))\n",
    "\n",
    "print(lassoCV.alpha_, lassoCV_rmse)  # Lasso is slower\n",
    "\n"
   ]
  },
  {
   "cell_type": "code",
   "execution_count": null,
   "metadata": {},
   "outputs": [],
   "source": [
    "f = plt.figure(figsize=(6,6))\n",
    "ax = plt.axes()\n",
    "\n",
    "ax.plot(y_test, lassoCV.predict(X_test), \n",
    "         marker='o', ls='', ms=3.0)\n",
    "\n",
    "lim = (0, y_test.max())\n",
    "\n",
    "ax.set(xlabel='Actual Volume', \n",
    "       ylabel='Predicted Volume', \n",
    "       xlim=lim,\n",
    "       ylim=lim,\n",
    "       title='Lasso Regression Results');"
   ]
  },
  {
   "cell_type": "code",
   "execution_count": null,
   "metadata": {},
   "outputs": [],
   "source": [
    "from sklearn.linear_model import ElasticNetCV\n",
    "\n",
    "l1_ratios = np.linspace(0.1, 0.9, 9)\n",
    "\n",
    "elasticNetCV = ElasticNetCV(alphas=alphas2, \n",
    "                            l1_ratio=l1_ratios,\n",
    "                            max_iter=1e4).fit(X_train, y_train)\n",
    "elasticNetCV_rmse = rmse(y_test, elasticNetCV.predict(X_test))\n",
    "\n",
    "print(elasticNetCV.alpha_, elasticNetCV.l1_ratio_, elasticNetCV_rmse)"
   ]
  },
  {
   "cell_type": "code",
   "execution_count": null,
   "metadata": {},
   "outputs": [],
   "source": [
    "f = plt.figure(figsize=(6,6))\n",
    "ax = plt.axes()\n",
    "\n",
    "ax.plot(y_test, elasticNetCV.predict(X_test), \n",
    "         marker='o', ls='', ms=3.0)\n",
    "\n",
    "lim = (0, y_test.max())\n",
    "\n",
    "ax.set(xlabel='Actual Volume', \n",
    "       ylabel='Predicted Volume', \n",
    "       xlim=lim,\n",
    "       ylim=lim,\n",
    "       title='Elastic Regression Results');"
   ]
  },
  {
   "cell_type": "code",
   "execution_count": null,
   "metadata": {},
   "outputs": [],
   "source": []
  },
  {
   "cell_type": "code",
   "execution_count": null,
   "metadata": {},
   "outputs": [],
   "source": [
    "rmse_vals = [linearRegression_rmse, ridgeCV_rmse, lassoCV_rmse, elasticNetCV_rmse]\n",
    "\n",
    "labels = ['Linear', 'Ridge', 'Lasso', 'ElasticNet']\n",
    "\n",
    "rmse_df = pd.Series(rmse_vals, index=labels).to_frame()\n",
    "rmse_df.rename(columns={0: 'RMSE'}, inplace=1)\n",
    "rmse_df"
   ]
  },
  {
   "cell_type": "code",
   "execution_count": null,
   "metadata": {},
   "outputs": [],
   "source": [
    "f = plt.figure(figsize=(12,8))\n",
    "ax = plt.axes()\n",
    "\n",
    "labels = ['Linear','Ridge', 'Lasso', 'ElasticNet']\n",
    "\n",
    "models = [linearRegression, ridgeCV, lassoCV, elasticNetCV]\n",
    "\n",
    "for mod, lab in zip(models, labels):\n",
    "    ax.plot(y_test, mod.predict(X_test), \n",
    "             marker='o', ls='', ms=3.0, label=lab)\n",
    "\n",
    "\n",
    "leg = plt.legend(frameon=True)\n",
    "leg.get_frame().set_edgecolor('black')\n",
    "leg.get_frame().set_linewidth(1.0)\n",
    "\n",
    "ax.set(xlabel='Actual Volume', \n",
    "       ylabel='Predicted Volume', \n",
    "       title='Linear Regression Results');"
   ]
  },
  {
   "cell_type": "code",
   "execution_count": null,
   "metadata": {},
   "outputs": [],
   "source": []
  },
  {
   "cell_type": "code",
   "execution_count": null,
   "metadata": {},
   "outputs": [],
   "source": []
  },
  {
   "cell_type": "code",
   "execution_count": null,
   "metadata": {},
   "outputs": [],
   "source": [
    "### BEGIN SOLUTION\n",
    "\n",
    "# Part 1\n",
    "\n",
    "# Decreasing regularization and ensuring convergence\n",
    "las001 = Lasso(alpha = 0.001, max_iter=100000)\n",
    "\n",
    "# Transforming training set to get standardized units\n",
    "X_train_s = s.fit_transform(X_train)\n",
    "\n",
    "# Fitting model to training set\n",
    "las001.fit(X_train_s, y_train)\n",
    "\n",
    "# Transforming test set using the parameters defined from training set\n",
    "X_test_s = s.transform(X_test)\n",
    "\n",
    "# Finding prediction on test set\n",
    "y_pred = las001.predict(X_test_s)\n",
    "\n",
    "# Calculating r2 score\n",
    "print(\"r2 score of Lasso for alpha = 0.001:\", r2_score(y_pred, y_test))\n",
    "\n",
    "\n",
    "\n",
    "### BEGIN SOLUTION\n",
    "# Decreasing regularization and ensuring convergence\n",
    "r = Ridge(alpha = 0.001,max_iter=100000)\n",
    "# X_train_s = s.fit_transform(X_train)\n",
    "r.fit(X_train_s, y_train)\n",
    "# X_test_s = s.transform(X_test)\n",
    "y_pred_r = r.predict(X_test_s)\n",
    "\n",
    "# Calculating r2 score\n",
    "# r.coef_\n",
    "### END SOLUTION\n",
    "# Calculating r2 score\n",
    "print(\"r2 score of Ridge for alpha = 0.001:\", r2_score(y_pred_r, y_test))\n",
    "\n",
    "\n",
    "# Part 2\n",
    "\n",
    "# Using vanilla Linear Regression\n",
    "lr = LinearRegression()\n",
    "\n",
    "# Fitting model to training set\n",
    "lr.fit(X_train_s, y_train)\n",
    "\n",
    "# predicting on test set\n",
    "y_pred_lr = lr.predict(X_test_s)\n",
    "\n",
    "# Calculating r2 score\n",
    "print(\"r2 score for Linear Regression:\", r2_score(y_pred_lr, y_test))\n",
    "\n",
    "\n",
    "# Part 3\n",
    "print('Magnitude of Lasso coefficients:', abs(las001.coef_).sum())\n",
    "print('Number of coeffients not equal to 0 for Lasso:', (las001.coef_!=0).sum())\n",
    "\n",
    "print('Magnitude of Ridge coefficients:', abs(r.coef_).sum())\n",
    "print('Number of coeffients not equal to 0 for Ridge:', (r.coef_!=0).sum())\n",
    "\n",
    "print('Magnitude of Linear Regression coefficients:', abs(lr.coef_).sum())\n",
    "print('Number of coeffients not equal to 0 for Linear Regression:', (lr.coef_!=0).sum())\n",
    "\n",
    "### END SOLUTION"
   ]
  },
  {
   "cell_type": "code",
   "execution_count": null,
   "metadata": {},
   "outputs": [],
   "source": []
  }
 ],
 "metadata": {
  "kernelspec": {
   "display_name": "Python 3",
   "language": "python",
   "name": "python3"
  },
  "language_info": {
   "codemirror_mode": {
    "name": "ipython",
    "version": 3
   },
   "file_extension": ".py",
   "mimetype": "text/x-python",
   "name": "python",
   "nbconvert_exporter": "python",
   "pygments_lexer": "ipython3",
   "version": "3.8.5"
  }
 },
 "nbformat": 4,
 "nbformat_minor": 4
}
